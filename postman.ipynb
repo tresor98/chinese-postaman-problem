import itertools
global n, m, k, edge,ind,outd,indv, outdv,head, dist, stack, vis, nMax,mMax, inf

nMax = 100
mMax = 100
inf = 10000

#Build a graph
class g(object):
    pass
  
n = 0
m = 0  
k = 0  
ind = [0]
outd = [0]
head = [0]
dist = [0]
stack = [0]
vis = [0]
indv = []
outdv = []
#Declare an empty array that will hold the edges
edge = []

# Function that will add edges to the array edge[]
def add(u,v,w):
    global k, edge, head
    ed = g()
    ed.u = u
    ed.v = v
    ed.w = w
    ed.next = head[u]
    edge.append(ed)
    head[u] = k
    k += 1 

#Function that find the shortest path from a given starting point to any other point in the graph
def shortestdist(start):
    global n,m,k, edge, head, dist, stack, vis, inf
    i = top = 0
    for i in range(n):
        dist[i] = inf
        vis[i]  = 0  
    dist[start] = 0
    vis[start] = 1
    top += 1
    stack[top] = start
    while(top!=0):
        u =stack[top]
        top -= 1
        i = head[u]
        while(i!=0):
            v = edge[i].v
            if dist[v] > dist[u] + edge[i].w:
                dist[v] = dist[u] + edge[i].w
                if(vis[v]==0):
                    vis[v] = 1
                    top += 1
                    stack[top] = v
            i = edge[i].next
        vis[u] = 0
          

       

 #The main method
if __name__ == '__main__':
    u = v = w = i = 0
    for i in range(nMax):
        ind.append(0)
        outd.append(0)
        head.append(0)
        dist.append(0)
        vis.append(0)
        stack.append(0)

    na,ma = input().split()
    n = int(na)
    m = int(ma)
    edge = [0]
    k = 1
    sum1 = 0
    for i in range(n):
        head[i] = 0
    # Input the edges  
    for i in range(m):
        ua,va,wa = input().split()
        u = int(ua)
        v = int(va)
        w = int(wa)
        outd[u] += 1
        ind[v] += 1
        add(u,v,w)
        sum1 += w
  
    #Store the odd vertices in 2 arrays(Those that need an additional indegree and outdegree)
    for i in range(n):
        if ind[i] > outd[i]:
            outdv.append(i)
        elif outd[i] > ind[i]:
            indv.append(i)
    #Create a list of all possible combinations from the odd vertices
    a=[zip(x,indv) for x in itertools.permutations(outdv,len(indv))]
    chain = itertools.chain(*a)
    aa = list(chain)
  
    #find the least dist from those combinations of odd vertices
    if len(outdv) < 1:
        min_dist = 0
    else:    
        min_dist = inf
        count = 0
        sup = len(indv) - 1
        while count < len(aa)-sup:
            cost = 0
            for j in range(count,count+len(indv)):
                shortestdist(aa[j][0])
                cost += dist[aa[j][1]]
            count += len(indv)
            min_dist = min(min_dist,cost)  

    #Print the shortest distance
    if n > m:
        print(-1)
    else:  
        print(sum1 + min_dist) 
